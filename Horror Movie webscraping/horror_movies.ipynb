{
 "cells": [
  {
   "cell_type": "code",
   "execution_count": 1,
   "metadata": {},
   "outputs": [],
   "source": [
    "import numpy as np\n",
    "import pandas as pd\n",
    "import matplotlib.pyplot as plt\n",
    "import seaborn as sns\n",
    "\n",
    "import requests\n",
    "from bs4 import BeautifulSoup\n",
    "import openpyxl\n"
   ]
  },
  {
   "cell_type": "code",
   "execution_count": 87,
   "metadata": {},
   "outputs": [],
   "source": [
    "excel = openpyxl.Workbook()\n",
    "sheet = excel.active\n",
    "sheet.title = 'Horror Movies'\n",
    "sheet.append(['Serial No','Movie Name','Year Released','Genre',\n",
    "'IMDB Rating','Story Line','Direcot Name','Gross Amount'])\n",
    "\n",
    "try:\n",
    "    url = requests.get('https://www.imdb.com/search/title/?genres=horror&sort=user_rating,desc&title_type=feature&num_votes=25000,&pf_rd_m=A2FGELUUNOQJNL&pf_rd_p=5aab685f-35eb-40f3-95f7-c53f09d542c3&pf_rd_r=DYAT861G0VKC3E97SMDQ&pf_rd_s=right-6&pf_rd_t=15506&pf_rd_i=top&ref_=chttp_gnr_12')\n",
    "    soup = BeautifulSoup(url.text, 'html.parser')\n",
    "    #print(soup.prettify)\n",
    "    movie = soup.find('div',class_='lister-list').find_all('div',class_='lister-item')\n",
    "    #print(movie)\n",
    "    for movies in movie:\n",
    "        serial_no = movies.find('h3').find('span',class_='lister-item-index').get_text(strip=True).split('.')[0]\n",
    "        #print(serial_no)\n",
    "        name = movies.find('h3').a.text\n",
    "        #print(name)\n",
    "        year = movies.find('h3').find('span',class_='lister-item-year').text.replace('(','')\n",
    "        year = year.replace(')','')\n",
    "        #print(year)\n",
    "        genre = movies.find('p').find('span',class_='genre').get_text(strip=True)\n",
    "        #print(genre)\n",
    "        ratings = movies.find('div',class_='ratings-bar').strong.text\n",
    "        #print(ratings)\n",
    "        story = movies.find('p').findNext('p').get_text(strip=True)\n",
    "        #print(story)\n",
    "        director_name = movies.find('p').findNext('p').findNext('p').a.text\n",
    "        #print(director_name)\n",
    "        gross_amt = movies.find('p',class_='sort-num_votes-visible').find_all('span')[-1].get_text(strip=True).replace('$','')\n",
    "        #print(gross_amt)\n",
    "        sheet.append([serial_no,name,year,genre,ratings,story,director_name,gross_amt])\n",
    "        #break\n",
    "except Exception as e:\n",
    "    print(e)\n",
    "\n",
    "excel.save('Horror Movie.xlsx')"
   ]
  },
  {
   "cell_type": "code",
   "execution_count": null,
   "metadata": {},
   "outputs": [],
   "source": []
  }
 ],
 "metadata": {
  "kernelspec": {
   "display_name": "Python 3.9.12 ('base')",
   "language": "python",
   "name": "python3"
  },
  "language_info": {
   "codemirror_mode": {
    "name": "ipython",
    "version": 3
   },
   "file_extension": ".py",
   "mimetype": "text/x-python",
   "name": "python",
   "nbconvert_exporter": "python",
   "pygments_lexer": "ipython3",
   "version": "3.9.12"
  },
  "orig_nbformat": 4,
  "vscode": {
   "interpreter": {
    "hash": "d3dba6833e038803faa0c15bf38da5cbcea094cc77d0049041f5fadf3a80ace5"
   }
  }
 },
 "nbformat": 4,
 "nbformat_minor": 2
}
